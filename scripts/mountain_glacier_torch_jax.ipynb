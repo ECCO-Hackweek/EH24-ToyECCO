{
 "cells": [
  {
   "cell_type": "code",
   "execution_count": 1,
   "id": "cd0e9472-8624-46df-bbdf-d37036ee27ec",
   "metadata": {},
   "outputs": [],
   "source": [
    "import numpy as np\n",
    "import matplotlib.pyplot as plt \n",
    "from mpl_toolkits.axes_grid1 import make_axes_locatable\n",
    "import torch\n",
    "import jax\n",
    "import jax.numpy as jnp\n",
    "import time"
   ]
  },
  {
   "cell_type": "markdown",
   "id": "1827b8d7-e765-4398-9995-349ce0f52fb2",
   "metadata": {},
   "source": [
    "## True solution "
   ]
  },
  {
   "cell_type": "markdown",
   "id": "7ed49f30-2277-414e-b835-f50a6a62ff67",
   "metadata": {},
   "source": [
    "We now simulate the solution for a simple mountain glacier model, taken from *Fundamentals of Glacier Dynamics* by CJ van der Veen. The system is modeled by a non-linear, highly diffusive PDE.\n",
    "\n",
    "$$\n",
    " \\frac{\\partial H}{\\partial t } = -\\frac{\\partial}{\\partial x}\\left(-D(x)\\frac{\\partial h}{\\partial x}\\right) + M\\\\\n",
    "  D(x) = CH^{n+2}\\left|\\frac{\\partial h}{\\partial x}\\right|^{n-1}\\\\\n",
    "  C = \\frac{2A}{n+2}(\\rho g)^n\\\\\n",
    "    H(x,t) = h(x,t) - b(x) \\\\ \n",
    "    H_l = 0, H_r > 0\n",
    "$$\n",
    "\n",
    "$$\\frac{\\partial{b}}{\\partial{x}} = -0.1\\\\\n",
    "M(x) = M_0 - x M_1 \\:\\text{(accumulation rate, essentially a source term)}\\\\\n",
    "M_0 = 4.0 \\:\\text{m/yr}, \\:M_1 = 0.0002 \\:\\text{yr}^{-1}\\\\\n",
    "\\rho = 920 \\:\\text{kg/m}^3\\\\\n",
    "g = 9.8 \\:\\text{m/s}^2\\\\\n",
    "A = 10^{-16} \\: \\text{Pa}^{-3} \\text{a}^{-1}\\\\\n",
    "n = 3\\\\\n",
    "dx = 1.0 \\:\\text{km}, \\:L = 30 \\:\\text{km}\\\\\n",
    "dt = 1 \\:\\text{month}, \\:T = 2000 \\:\\text{yr}$$\n",
    "\n",
    "The true solution will be generated using a staggered grid finite volume method on a fine, uniform grid.\n",
    "\n"
   ]
  },
  {
   "cell_type": "code",
   "execution_count": 2,
   "id": "1e3afe6b-1993-4a98-8f5c-a5410c5e927b",
   "metadata": {},
   "outputs": [
    {
     "name": "stdout",
     "output_type": "stream",
     "text": [
      "Elapsed time: 1.5260663032531738 seconds\n"
     ]
    },
    {
     "data": {
      "text/plain": [
       "np.float64(12.364982412145057)"
      ]
     },
     "execution_count": 2,
     "metadata": {},
     "output_type": "execute_result"
    }
   ],
   "source": [
    "def true_solution(x, t, M):\n",
    "\n",
    "    nx = x.shape[0] - 1\n",
    "    nt = t.shape[0] - 1\n",
    "    b = 1.0 - 0.0001*x\n",
    "    \n",
    "    A = 1e-16\n",
    "    rho = 920.0\n",
    "    g = 9.2\n",
    "    n = 3\n",
    "\n",
    "    C = 2*A/(n+2) * (rho*g)**n * (1e3)**n\n",
    "\n",
    "    h = np.zeros((nx+1,nt+1))\n",
    "    H = np.zeros((nx+1,nt+1))\n",
    "    h[:,0] = b\n",
    "    h[0,:] = b[0]\n",
    "    h[-1,:] = b[-1]\n",
    "\n",
    "    H[:,0] = h[:,0] - b\n",
    "    H[0,:] = h[0,:] - b[0]\n",
    "    H[-1,:] = h[-1,:] - b[-1]\n",
    "\n",
    "    for i in range(1,len(t)):\n",
    "\n",
    "        D = C *((H[1:,i-1]+H[:nx,i-1])/2.0)**(n+2) * ((h[1:,i-1] - h[:nx,i-1])/dx)**(n-1)\n",
    "        phi = -D*(h[1:,i-1]-h[:nx,i-1])/dx\n",
    "\n",
    "        h[1:nx,i] = h[1:nx,i-1] + M[1:nx]*dt - dt/dx * (phi[1:]-phi[:nx-1])\n",
    "        h[1:nx,i] = (h[1:nx,i] < b[1:nx]) * b[1:nx] + (h[1:nx,i] >= b[1:nx]) * h[1:nx,i]\n",
    "        \n",
    "        H[:,i] = h[:,i] - b\n",
    "\n",
    "    V = np.sum(H[:,-1])*dx\n",
    "    return V\n",
    "\n",
    "start_time = time.time()\n",
    "\n",
    "L = 30.0\n",
    "T = 5000.0\n",
    "dx = 1.0\n",
    "dt = 1./12.\n",
    "nx = int(L/dx)\n",
    "nt = int(T/dt)\n",
    "\n",
    "x = np.linspace(0,L,nx+1)\n",
    "t = np.linspace(0,T,nt+1)\n",
    "M = 0.004 - 0.0002*x\n",
    "\n",
    "V = true_solution(x, t, M)\n",
    "\n",
    "end_time = time.time()\n",
    "elapsed_time = end_time - start_time\n",
    "print(f\"Elapsed time: {elapsed_time} seconds\")\n",
    "\n",
    "V"
   ]
  },
  {
   "cell_type": "code",
   "execution_count": 3,
   "id": "93bc0e2f-0d46-434c-a877-a22d8f01f292",
   "metadata": {},
   "outputs": [
    {
     "name": "stderr",
     "output_type": "stream",
     "text": [
      "/tmp/ipykernel_2520676/2603098063.py:47: UserWarning: To copy construct from a tensor, it is recommended to use sourceTensor.clone().detach() or sourceTensor.clone().detach().requires_grad_(True), rather than torch.tensor(sourceTensor).\n",
      "  M = torch.tensor(0.004 - 0.0002 * torch.linspace(0, L, nx + 1), dtype=torch.float64, requires_grad=True)\n"
     ]
    },
    {
     "name": "stdout",
     "output_type": "stream",
     "text": [
      "Elapsed time: 792.7237458229065 seconds\n"
     ]
    },
    {
     "data": {
      "text/plain": [
       "tensor([  0.0000,   7.7235,  13.8033,  19.6687,  25.4607,  31.2770,  37.2099,\n",
       "         43.3705,  49.9198,  57.1388,  65.6429,  77.4524, 139.2594, 149.0766,\n",
       "        153.9650, 156.6878, 158.0030, 158.2083, 157.4224, 155.6658, 152.8868,\n",
       "        148.9615, 143.6755, 136.6793, 127.3935, 114.7918,  96.8271,  68.4260,\n",
       "          0.0000,   0.0000,   0.0000], dtype=torch.float64)"
      ]
     },
     "execution_count": 3,
     "metadata": {},
     "output_type": "execute_result"
    }
   ],
   "source": [
    "def true_solution_torch(x, t, M, dx, dt, nx, nt):\n",
    "    b = 1.0 - 0.0001 * x\n",
    "    \n",
    "    A = 1e-16\n",
    "    rho = 920.0\n",
    "    g = 9.2 \n",
    "    n = 3\n",
    "\n",
    "    C = 2 * A / (n + 2) * (rho * g)**n * (1e3)**n\n",
    "\n",
    "    h = torch.zeros((nx + 1, nt + 1), dtype=torch.float64)\n",
    "    H = torch.zeros((nx + 1, nt + 1), dtype=torch.float64)\n",
    "    h[:, 0] = b\n",
    "    h[0, :] = b[0]\n",
    "    h[-1, :] = b[-1]\n",
    "\n",
    "    H[:, 0] = h[:, 0] - b\n",
    "    H[0, :] = h[0, :] - b[0]\n",
    "    H[-1, :] = h[-1, :] - b[-1]\n",
    "\n",
    "    for i in range(1, len(t)):\n",
    "\n",
    "        D = C * ((H[1:, i - 1] + H[:nx, i - 1]) / 2.0)**(n + 2) * ((h[1:, i - 1] - h[:nx, i - 1]) / dx)**(n - 1)\n",
    "        phi = -D * (h[1:, i - 1] - h[:nx, i - 1]) / dx\n",
    "\n",
    "        h[1:nx, i] = h[1:nx, i - 1] + M[1:nx] * dt - dt / dx * (phi[1:] - phi[:nx - 1])\n",
    "        h[1:nx, i] = torch.where(h[1:nx, i] < b[1:nx], b[1:nx], h[1:nx, i])\n",
    "        \n",
    "        H[:, i] = h[:, i] - b\n",
    "\n",
    "    V = torch.sum(H[:, -1]) * dx\n",
    "    return V\n",
    "\n",
    "start_time = time.time()\n",
    "\n",
    "# Define parameters\n",
    "L = 30.0\n",
    "T = 5000.0\n",
    "dx = 1.0\n",
    "dt = 1. / 12.\n",
    "nx = int(L / dx)\n",
    "nt = int(T / dt)\n",
    "\n",
    "x = torch.linspace(0, L, nx + 1, dtype=torch.float64)\n",
    "t = torch.linspace(0, T, nt + 1, dtype=torch.float64)\n",
    "\n",
    "M = torch.tensor(0.004 - 0.0002 * torch.linspace(0, L, nx + 1), dtype=torch.float64, requires_grad=True)\n",
    "\n",
    "# Compute the solution\n",
    "V = true_solution_torch(x, t, M, dx, dt, nx, nt)\n",
    "\n",
    "# Compute the gradient of V with respect to M\n",
    "V.backward()\n",
    "\n",
    "# The gradient is stored in M.grad\n",
    "dVdM = M.grad\n",
    "\n",
    "end_time = time.time()\n",
    "elapsed_time = end_time - start_time\n",
    "print(f\"Elapsed time: {elapsed_time} seconds\")\n",
    "\n",
    "dVdM"
   ]
  },
  {
   "cell_type": "code",
   "execution_count": 4,
   "id": "5388993b-33e5-4492-ab01-ce0f69201c6f",
   "metadata": {},
   "outputs": [
    {
     "name": "stdout",
     "output_type": "stream",
     "text": [
      "Elapsed time: 10283.995254516602 seconds\n"
     ]
    },
    {
     "data": {
      "text/plain": [
       "Array([  0.        ,   7.7234855 ,  13.8033328 ,  19.66865227,\n",
       "        25.46071801,  31.27695349,  37.2099016 ,  43.37050976,\n",
       "        49.91984079,  57.13880789,  65.64284624,  77.45237268,\n",
       "       139.2596656 , 149.07685504, 153.96525772, 156.68808935,\n",
       "       158.00321266, 158.20855233, 157.42261785, 155.66608018,\n",
       "       152.88707221, 148.96174071, 143.67571334, 136.67955242,\n",
       "       127.39369517, 114.79204539,  96.82724429,  68.42610895,\n",
       "         0.        ,   0.        ,   0.        ], dtype=float64)"
      ]
     },
     "execution_count": 4,
     "metadata": {},
     "output_type": "execute_result"
    }
   ],
   "source": [
    "def true_solution_jax(x, t, M, dx, dt, nx, nt):\n",
    "\n",
    "    nx = x.shape[0] - 1\n",
    "    nt = t.shape[0] - 1\n",
    "    b = 1.0 - 0.0001*x\n",
    "    \n",
    "    A = 1e-16\n",
    "    rho = 920.0\n",
    "    g = 9.2 \n",
    "    n = 3\n",
    "\n",
    "    C = 2*A/(n+2) * (rho*g)**n * (1e3)**n\n",
    "\n",
    "    h = jnp.zeros((nx+1,nt+1))\n",
    "    H = jnp.zeros((nx+1,nt+1))\n",
    "    h = h.at[:,0].set(b)\n",
    "    h = h.at[0,:].set(b[0])\n",
    "    h = h.at[-1,:].set(b[-1])\n",
    "\n",
    "    H = H.at[:,0].set(h[:,0] - b)\n",
    "    H = H.at[0,:].set(h[0,:] - b[0])\n",
    "    H = H.at[-1,:].set(h[-1,:] - b[-1])\n",
    "\n",
    "    for i in range(1,len(t)):\n",
    "\n",
    "        D = C * ((H[1:,i-1] + H[:nx,i-1])/2.0)**(n+2) * ((h[1:,i-1] - h[:nx,i-1])/dx)**(n-1)\n",
    "        phi = -D * (h[1:,i-1] - h[:nx,i-1]) / dx\n",
    "\n",
    "        h = h.at[1:nx,i].set(h[1:nx,i-1] + M[1:nx] * dt - dt/dx * (phi[1:] - phi[:nx-1]))\n",
    "        h = h.at[1:nx,i].set((h[1:nx,i] < b[1:nx]) * b[1:nx] + (h[1:nx,i] >= b[1:nx]) * h[1:nx,i])\n",
    "        \n",
    "        H = H.at[:,i].set(h[:,i] - b)\n",
    "\n",
    "    V = jnp.sum(H[:,-1]) * dx\n",
    "    return V\n",
    "\n",
    "start_time = time.time()\n",
    "\n",
    "# Set default precision to float64\n",
    "jax.config.update(\"jax_enable_x64\", True)\n",
    "\n",
    "# Define parameters\n",
    "L = 30.0\n",
    "T = 5000.0\n",
    "dx = 1.0\n",
    "dt = 1./12.\n",
    "nx = int(L/dx)\n",
    "nt = int(T/dt)\n",
    "\n",
    "x = jnp.linspace(0, L, nx+1)\n",
    "t = jnp.linspace(0, T, nt+1)\n",
    "\n",
    "M = 0.004 - 0.0002*jnp.linspace(0, L, nx+1)\n",
    "\n",
    "# Use JAX's grad to compute the derivative of V with respect to M\n",
    "# In 0-indexing, 2 corresponds as the third argument\n",
    "dVdM = jax.grad(true_solution_jax, argnums=2)(x, t, M, dx, dt, nx, nt)\n",
    "\n",
    "end_time = time.time()\n",
    "elapsed_time = end_time - start_time\n",
    "print(f\"Elapsed time: {elapsed_time} seconds\")\n",
    "\n",
    "dVdM"
   ]
  }
 ],
 "metadata": {
  "kernelspec": {
   "display_name": "py312_torch_jax",
   "language": "python",
   "name": "py312_torch_jax"
  },
  "language_info": {
   "codemirror_mode": {
    "name": "ipython",
    "version": 3
   },
   "file_extension": ".py",
   "mimetype": "text/x-python",
   "name": "python",
   "nbconvert_exporter": "python",
   "pygments_lexer": "ipython3",
   "version": "3.12.7"
  }
 },
 "nbformat": 4,
 "nbformat_minor": 5
}
