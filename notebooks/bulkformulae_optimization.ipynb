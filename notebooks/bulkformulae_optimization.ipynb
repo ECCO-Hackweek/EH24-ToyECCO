{
 "cells": [
  {
   "cell_type": "markdown",
   "id": "c886c3a5-c291-4e62-b83a-4087083abddc",
   "metadata": {},
   "source": [
    "# AirSeaFlux: bulkformulae Optimization Problem\n",
    "\n",
    "The notebook `optim_and_enzyme.ipynb` includes several examples the use Enzyme and Optim to get adjoints and to minimize some cost function. The input in most cases is a vector, but the output of the function we are optimizing is scalar (a single term from the bulkformulae function). Here we are working to build a version that uses all outputs of bulkformulae."
   ]
  },
  {
   "cell_type": "code",
   "execution_count": 1,
   "id": "ec8da47a-3d5b-41d7-a644-973b9d3f96fe",
   "metadata": {},
   "outputs": [
    {
     "name": "stderr",
     "output_type": "stream",
     "text": [
      "\u001b[32m\u001b[1m    Updating\u001b[22m\u001b[39m git-repo `https://github.com/eldavenport/ECCO.jl`\n",
      "\u001b[32m\u001b[1m   Resolving\u001b[22m\u001b[39m package versions...\n",
      "\u001b[32m\u001b[1m  No Changes\u001b[22m\u001b[39m to `~/.julia/environments/v1.11/Project.toml`\n",
      "\u001b[32m\u001b[1m  No Changes\u001b[22m\u001b[39m to `~/.julia/environments/v1.11/Manifest.toml`\n",
      "\u001b[32m\u001b[1m   Resolving\u001b[22m\u001b[39m package versions...\n",
      "\u001b[32m\u001b[1m  No Changes\u001b[22m\u001b[39m to `~/.julia/environments/v1.11/Project.toml`\n",
      "\u001b[32m\u001b[1m  No Changes\u001b[22m\u001b[39m to `~/.julia/environments/v1.11/Manifest.toml`\n"
     ]
    }
   ],
   "source": [
    "using Pkg; Pkg.add(url=\"https://github.com/eldavenport/ECCO.jl\"); Pkg.add(\"AirSeaFluxes\")\n",
    "using ECCO\n",
    "import AirSeaFluxes: bulkformulae\n",
    "using Enzyme, Optim"
   ]
  },
  {
   "cell_type": "code",
   "execution_count": 12,
   "id": "e2cc17ae-e34f-4275-9e20-5ee837901f44",
   "metadata": {},
   "outputs": [
    {
     "data": {
      "text/plain": [
       "(hl = -3.1000000000004873, hs = 2.0999999999998105, evap = 1.240248049610117e-9, tau = 0.04999999999937696)"
      ]
     },
     "execution_count": 12,
     "metadata": {},
     "output_type": "execute_result"
    }
   ],
   "source": [
    "#= Output of the bulkformulae function\n",
    "\n",
    "out = Dict(\"hl\"=>hl,\"hs\"=>hs,\"evap\"=>evap,\"ch\"=>ch,\"ce\"=>ce,\n",
    "\"tau\"=>tau,\"ssq\"=>ssq,\"huol\"=>huol,\"rd\"=>rd,\"re\"=>re,\"rh\"=>rh,\n",
    "\"ustar\"=>ustar,\"qstar\"=>qstar,\"tstar\"=>tstar,\"psimh\"=>psimh,\"psixh\"=>psixh)\n",
    "=#\n",
    "\n",
    "x0 = [300.0,0.001,1.0,10.0]\n",
    "obs = [-3.1,2.1,5.5e-9,0.05]\n",
    "\n",
    "# cost function with the obs as an argument\n",
    "function J_bulkformulae(x::Vector{Float64},y_obs::Vector{Float64})\n",
    "    res = bulkformulae(x[1],x[2],x[3],x[4])\n",
    "\n",
    "    J = abs(res.hl-y_obs[1])^2 + abs(res.hs-y_obs[2])^2 + abs(res.evap-y_obs[3])^2 + abs(res.tau-y_obs[4])^2\n",
    "    return J\n",
    "end\n",
    "# create a new \"closure\" that will keep y_obs constant\n",
    "function cost_closure(y_obs::Vector{Float64})\n",
    "    return x -> J_bulkformulae(x,y_obs)\n",
    "end\n",
    "\n",
    "cost = cost_closure(obs)\n",
    "# cost(x0) = 0.008252726417096927\n",
    "# cost(x0) \n",
    "\n",
    "# get the adjoint of this new closure function that accounts for the constant obs\n",
    "function cost_ad!(bx2, x) \n",
    "    bx = zeros(size(x))\n",
    "    Enzyme.autodiff(Reverse, cost, Duplicated(x, bx))\n",
    "    bx2 .= bx\n",
    "end\n",
    "\n",
    "# for testing: evaluate the gradient at x0\n",
    "bx2 = zeros(size(x0))\n",
    "cost_ad!(bx2,x0)\n",
    "\n",
    "# optimization with the cost function and it's adjoint \n",
    "result=Optim.optimize(cost, cost_ad!, x0)\n",
    "x1=Optim.minimizer(result)\n",
    "\n",
    "# # check that tau at x1 is close to y_obs\n",
    "y1 = bulkformulae(x1[1],x1[2],x1[3],x1[4])\n",
    "(hl=y1.hl,hs=y1.hs,evap=y1.evap,tau=y1.tau)"
   ]
  },
  {
   "cell_type": "code",
   "execution_count": null,
   "id": "1dc364ba-f6c7-49ff-b411-cb18cd1ca786",
   "metadata": {},
   "outputs": [],
   "source": []
  }
 ],
 "metadata": {
  "kernelspec": {
   "display_name": "Julia 1.11.0",
   "language": "julia",
   "name": "julia-1.11"
  },
  "language_info": {
   "file_extension": ".jl",
   "mimetype": "application/julia",
   "name": "julia",
   "version": "1.11.0"
  }
 },
 "nbformat": 4,
 "nbformat_minor": 5
}
