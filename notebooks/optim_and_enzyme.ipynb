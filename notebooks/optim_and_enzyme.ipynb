{
 "cells": [
  {
   "cell_type": "markdown",
   "metadata": {},
   "source": [
    "# Optim and Enzyme with ECCO.jl"
   ]
  },
  {
   "cell_type": "code",
   "execution_count": 1,
   "metadata": {},
   "outputs": [
    {
     "name": "stderr",
     "output_type": "stream",
     "text": [
      "\u001b[32m\u001b[1m    Updating\u001b[22m\u001b[39m git-repo `https://github.com/eldavenport/ECCO.jl`\n",
      "\u001b[32m\u001b[1m   Resolving\u001b[22m\u001b[39m package versions...\n",
      "\u001b[32m\u001b[1m  No Changes\u001b[22m\u001b[39m to `~/.julia/environments/v1.11/Project.toml`\n",
      "\u001b[32m\u001b[1m  No Changes\u001b[22m\u001b[39m to `~/.julia/environments/v1.11/Manifest.toml`\n",
      "\u001b[92m\u001b[1mPrecompiling\u001b[22m\u001b[39m project...\n",
      "    890.7 ms\u001b[32m  ✓ \u001b[39m\u001b[90mIteratorInterfaceExtensions\u001b[39m\n",
      "   1088.4 ms\u001b[32m  ✓ \u001b[39m\u001b[90mLaTeXStrings\u001b[39m\n",
      "    962.4 ms\u001b[32m  ✓ \u001b[39m\u001b[90mGlob\u001b[39m\n",
      "   1005.7 ms\u001b[32m  ✓ \u001b[39m\u001b[90mPositiveFactorizations\u001b[39m\n",
      "   1108.3 ms\u001b[32m  ✓ \u001b[39m\u001b[90mExprTools\u001b[39m\n",
      "    958.6 ms\u001b[32m  ✓ \u001b[39m\u001b[90mStatsAPI\u001b[39m\n",
      "    977.5 ms\u001b[32m  ✓ \u001b[39m\u001b[90mWorkerUtilities\u001b[39m\n",
      "   1112.2 ms\u001b[32m  ✓ \u001b[39m\u001b[90mGeoFormatTypes\u001b[39m\n",
      "    904.9 ms\u001b[32m  ✓ \u001b[39m\u001b[90mCEnum\u001b[39m\n",
      "   1022.9 ms\u001b[32m  ✓ \u001b[39m\u001b[90mFuture\u001b[39m\n",
      "    944.2 ms\u001b[32m  ✓ \u001b[39mUnPack\n",
      "    992.7 ms\u001b[32m  ✓ \u001b[39m\u001b[90mOpenLibm_jll\u001b[39m\n",
      "   1233.2 ms\u001b[32m  ✓ \u001b[39m\u001b[90mFortranFiles\u001b[39m\n",
      "   1857.9 ms\u001b[32m  ✓ \u001b[39m\u001b[90mOffsetArrays\u001b[39m\n",
      "   1960.9 ms\u001b[32m  ✓ \u001b[39m\u001b[90mFillArrays\u001b[39m\n",
      "   1312.9 ms\u001b[32m  ✓ \u001b[39m\u001b[90mStatistics\u001b[39m\n",
      "   1307.9 ms\u001b[32m  ✓ \u001b[39m\u001b[90mCompilerSupportLibraries_jll\u001b[39m\n",
      "   1174.3 ms\u001b[32m  ✓ \u001b[39m\u001b[90mIterTools\u001b[39m\n",
      "   1046.3 ms\u001b[32m  ✓ \u001b[39m\u001b[90mSuiteSparse_jll\u001b[39m\n",
      "    901.8 ms\u001b[32m  ✓ \u001b[39m\u001b[90mManualMemory\u001b[39m\n",
      "   1209.0 ms\u001b[32m  ✓ \u001b[39m\u001b[90mOrderedCollections\u001b[39m\n",
      "    892.4 ms\u001b[32m  ✓ \u001b[39m\u001b[90mDataValueInterfaces\u001b[39m\n",
      "   1191.3 ms\u001b[32m  ✓ \u001b[39m\u001b[90mObservables\u001b[39m\n",
      "   1264.3 ms\u001b[32m  ✓ \u001b[39m\u001b[90mRequires\u001b[39m\n",
      "   1194.5 ms\u001b[32m  ✓ \u001b[39m\u001b[90mStructIO\u001b[39m\n",
      "    977.7 ms\u001b[32m  ✓ \u001b[39m\u001b[90mReexport\u001b[39m\n",
      "   3714.4 ms\u001b[32m  ✓ \u001b[39m\u001b[90mDistributed\u001b[39m\n",
      "   1019.7 ms\u001b[32m  ✓ \u001b[39m\u001b[90mSIMDTypes\u001b[39m\n",
      "   1618.7 ms\u001b[32m  ✓ \u001b[39m\u001b[90mInlineStrings\u001b[39m\n",
      "   1161.0 ms\u001b[32m  ✓ \u001b[39m\u001b[90mURIs\u001b[39m\n",
      "    983.5 ms\u001b[32m  ✓ \u001b[39m\u001b[90mSimpleBufferStream\u001b[39m\n",
      "   1298.9 ms\u001b[32m  ✓ \u001b[39m\u001b[90mIntervalSets\u001b[39m\n",
      "   1779.9 ms\u001b[32m  ✓ \u001b[39m\u001b[90mIrrationalConstants\u001b[39m\n",
      "   1143.7 ms\u001b[32m  ✓ \u001b[39m\u001b[90mExtents\u001b[39m\n",
      "    960.6 ms\u001b[32m  ✓ \u001b[39m\u001b[90mPCRE2_jll\u001b[39m\n",
      "   1059.7 ms\u001b[32m  ✓ \u001b[39m\u001b[90mInvertedIndices\u001b[39m\n",
      "   1217.0 ms\u001b[32m  ✓ \u001b[39m\u001b[90mTranscodingStreams\u001b[39m\n",
      "    970.3 ms\u001b[32m  ✓ \u001b[39m\u001b[90mLRUCache\u001b[39m\n",
      "   1011.3 ms\u001b[32m  ✓ \u001b[39m\u001b[90mIfElse\u001b[39m\n",
      "    830.4 ms\u001b[32m  ✓ \u001b[39m\u001b[90mCommonWorldInvalidations\u001b[39m\n",
      "    853.3 ms\u001b[32m  ✓ \u001b[39m\u001b[90mDataAPI\u001b[39m\n",
      "   1396.0 ms\u001b[32m  ✓ \u001b[39m\u001b[90mEnzymeCore\u001b[39m\n",
      "   1191.9 ms\u001b[32m  ✓ \u001b[39m\u001b[90mConstructionBase\u001b[39m\n",
      "   1004.0 ms\u001b[32m  ✓ \u001b[39m\u001b[90mKahanSummation\u001b[39m\n",
      "    991.9 ms\u001b[32m  ✓ \u001b[39m\u001b[90mBitFlags\u001b[39m\n",
      "   1019.4 ms\u001b[32m  ✓ \u001b[39m\u001b[90mStaticArraysCore\u001b[39m\n",
      "    791.7 ms\u001b[32m  ✓ \u001b[39m\u001b[90mSuppressor\u001b[39m\n",
      "   1592.5 ms\u001b[32m  ✓ \u001b[39m\u001b[90mConcurrentUtilities\u001b[39m\n",
      "   2406.8 ms\u001b[32m  ✓ \u001b[39m\u001b[90mCrayons\u001b[39m\n",
      "   1556.1 ms\u001b[32m  ✓ \u001b[39m\u001b[90mZipFile\u001b[39m\n",
      "   1753.7 ms\u001b[32m  ✓ \u001b[39m\u001b[90mStructTypes\u001b[39m\n",
      "   1678.9 ms\u001b[32m  ✓ \u001b[39m\u001b[90mCFTime\u001b[39m\n",
      "   2534.5 ms\u001b[32m  ✓ \u001b[39m\u001b[90mSentinelArrays\u001b[39m\n",
      "   1164.4 ms\u001b[32m  ✓ \u001b[39m\u001b[90mScratch\u001b[39m\n",
      "   1273.3 ms\u001b[32m  ✓ \u001b[39m\u001b[90mLoggingExtras\u001b[39m\n",
      "   1223.1 ms\u001b[32m  ✓ \u001b[39m\u001b[90mCompat\u001b[39m\n",
      "   1391.6 ms\u001b[32m  ✓ \u001b[39m\u001b[90mCpuId\u001b[39m\n",
      "   1221.4 ms\u001b[32m  ✓ \u001b[39m\u001b[90mDocStringExtensions\u001b[39m\n",
      "   1079.9 ms\u001b[32m  ✓ \u001b[39m\u001b[90mCatViews\u001b[39m\n",
      "   1157.5 ms\u001b[32m  ✓ \u001b[39m\u001b[90mExceptionUnwrapping\u001b[39m\n",
      "   1549.5 ms\u001b[32m  ✓ \u001b[39m\u001b[90mOpenSSL_jll\u001b[39m\n",
      "   1415.7 ms\u001b[32m  ✓ \u001b[39m\u001b[90mExpat_jll\u001b[39m\n",
      "   1646.8 ms\u001b[32m  ✓ \u001b[39m\u001b[90mLibiconv_jll\u001b[39m\n",
      "   4420.3 ms\u001b[32m  ✓ \u001b[39m\u001b[90mMacroTools\u001b[39m\n",
      "   1357.4 ms\u001b[32m  ✓ \u001b[39m\u001b[90mEarCut_jll\u001b[39m\n",
      "   2000.7 ms\u001b[32m  ✓ \u001b[39m\u001b[90mLazyArtifacts\u001b[39m\n",
      "   1074.3 ms\u001b[32m  ✓ \u001b[39m\u001b[90mTableTraits\u001b[39m\n",
      "   3048.4 ms\u001b[32m  ✓ \u001b[39m\u001b[90mRecipesBase\u001b[39m\n",
      "   4083.2 ms\u001b[32m  ✓ \u001b[39m\u001b[90mStringManipulation\u001b[39m\n",
      "   1235.8 ms\u001b[32m  ✓ \u001b[39m\u001b[90mNaNMath\u001b[39m\n",
      "   1173.0 ms\u001b[32m  ✓ \u001b[39m\u001b[90mFillArrays → FillArraysStatisticsExt\u001b[39m\n",
      "   1305.5 ms\u001b[32m  ✓ \u001b[39m\u001b[90mDierckx_jll\u001b[39m\n",
      "   1368.0 ms\u001b[32m  ✓ \u001b[39m\u001b[90mOpenSpecFun_jll\u001b[39m\n",
      "   1287.4 ms\u001b[32m  ✓ \u001b[39m\u001b[90mParameters\u001b[39m\n",
      "   1984.0 ms\u001b[32m  ✓ \u001b[39m\u001b[90mThreadingUtilities\u001b[39m\n",
      "   5309.2 ms\u001b[32m  ✓ \u001b[39m\u001b[90mTimerOutputs\u001b[39m\n",
      "   1199.4 ms\u001b[32m  ✓ \u001b[39m\u001b[90mAdapt\u001b[39m\n",
      "   1187.3 ms\u001b[32m  ✓ \u001b[39m\u001b[90mSharedArrays\u001b[39m\n",
      "   1065.1 ms\u001b[32m  ✓ \u001b[39m\u001b[90mInlineStrings → ParsersExt\u001b[39m\n",
      "   6474.7 ms\u001b[32m  ✓ \u001b[39m\u001b[90mSparseArrays\u001b[39m\n",
      "    987.7 ms\u001b[32m  ✓ \u001b[39m\u001b[90mIntervalSets → IntervalSetsRandomExt\u001b[39m\n",
      "   4015.2 ms\u001b[32m  ✓ \u001b[39m\u001b[90mObjectFile\u001b[39m\n",
      "   1691.8 ms\u001b[32m  ✓ \u001b[39m\u001b[90mGeoInterface\u001b[39m\n",
      "   1204.0 ms\u001b[32m  ✓ \u001b[39m\u001b[90mCodecZlib\u001b[39m\n",
      "   1020.2 ms\u001b[32m  ✓ \u001b[39m\u001b[90mLRUCache → SerializationExt\u001b[39m\n",
      "   1316.7 ms\u001b[32m  ✓ \u001b[39m\u001b[90mPooledArrays\u001b[39m\n",
      "   1423.0 ms\u001b[32m  ✓ \u001b[39m\u001b[90mMissings\u001b[39m\n",
      "   2202.2 ms\u001b[32m  ✓ \u001b[39m\u001b[90mStatic\u001b[39m\n",
      "   1110.6 ms\u001b[32m  ✓ \u001b[39m\u001b[90mConstructionBase → ConstructionBaseLinearAlgebraExt\u001b[39m\n",
      "   7776.1 ms\u001b[32m  ✓ \u001b[39m\u001b[90mFileIO\u001b[39m\n",
      "   1325.4 ms\u001b[32m  ✓ \u001b[39m\u001b[90mDiffResults\u001b[39m\n",
      "    874.4 ms\u001b[32m  ✓ \u001b[39m\u001b[90mCompat → CompatLinearAlgebraExt\u001b[39m\n",
      "   1314.5 ms\u001b[32m  ✓ \u001b[39m\u001b[90mLogExpFunctions\u001b[39m\n",
      "   1593.7 ms\u001b[32m  ✓ \u001b[39m\u001b[90mGit_jll\u001b[39m\n",
      "   3630.4 ms\u001b[32m  ✓ \u001b[39m\u001b[90mOpenSSL\u001b[39m\n",
      "   1289.8 ms\u001b[32m  ✓ \u001b[39m\u001b[90mCommonSubexpressions\u001b[39m\n",
      "   2564.7 ms\u001b[32m  ✓ \u001b[39m\u001b[90mLLVMExtra_jll\u001b[39m\n",
      "   2690.1 ms\u001b[32m  ✓ \u001b[39m\u001b[90mEnzyme_jll\u001b[39m\n",
      "   1710.7 ms\u001b[32m  ✓ \u001b[39m\u001b[90mTables\u001b[39m\n",
      "   1835.5 ms\u001b[32m  ✓ \u001b[39m\u001b[90mDierckx\u001b[39m\n",
      "   1308.1 ms\u001b[32m  ✓ \u001b[39m\u001b[90mOffsetArrays → OffsetArraysAdaptExt\u001b[39m\n",
      "   1297.6 ms\u001b[32m  ✓ \u001b[39m\u001b[90mEnzymeCore → AdaptExt\u001b[39m\n",
      "   2032.3 ms\u001b[32m  ✓ \u001b[39m\u001b[90mWeakRefStrings\u001b[39m\n",
      "   2229.1 ms\u001b[32m  ✓ \u001b[39m\u001b[90mFillArrays → FillArraysSparseArraysExt\u001b[39m\n",
      "  14011.0 ms\u001b[32m  ✓ \u001b[39m\u001b[90mStaticArrays\u001b[39m\n",
      "   1326.4 ms\u001b[32m  ✓ \u001b[39m\u001b[90mIntervalSets → IntervalSetsStatisticsExt\u001b[39m\n",
      "   2038.8 ms\u001b[32m  ✓ \u001b[39m\u001b[90mStatistics → SparseArraysExt\u001b[39m\n",
      "   1531.8 ms\u001b[32m  ✓ \u001b[39m\u001b[90mIntervalSets → IntervalSetsRecipesBaseExt\u001b[39m\n",
      "   1490.0 ms\u001b[32m  ✓ \u001b[39m\u001b[90mGeoInterfaceRecipes\u001b[39m\n",
      "   1756.1 ms\u001b[32m  ✓ \u001b[39m\u001b[90mBitTwiddlingConvenienceFunctions\u001b[39m\n",
      "   1119.7 ms\u001b[32m  ✓ \u001b[39m\u001b[90mConstructionBase → ConstructionBaseIntervalSetsExt\u001b[39m\n",
      "   2705.3 ms\u001b[32m  ✓ \u001b[39m\u001b[90mCPUSummary\u001b[39m\n",
      "   2041.0 ms\u001b[32m  ✓ \u001b[39m\u001b[90mFilePathsBase\u001b[39m\n",
      "  38917.7 ms\u001b[32m  ✓ \u001b[39m\u001b[90mUnitful\u001b[39m\n",
      "   1401.6 ms\u001b[32m  ✓ \u001b[39m\u001b[90mGit\u001b[39m\n",
      "  21242.7 ms\u001b[32m  ✓ \u001b[39m\u001b[90mJSON3\u001b[39m\n",
      "   3661.2 ms\u001b[32m  ✓ \u001b[39m\u001b[90mDataStructures\u001b[39m\n",
      "   4381.5 ms\u001b[32m  ✓ \u001b[39m\u001b[90mSpecialFunctions\u001b[39m\n",
      "   1205.3 ms\u001b[32m  ✓ \u001b[39mAirSeaFluxes\n",
      "   5392.5 ms\u001b[32m  ✓ \u001b[39m\u001b[90mHTTP\u001b[39m\n",
      "   1522.4 ms\u001b[32m  ✓ \u001b[39m\u001b[90mStaticArrays → StaticArraysStatisticsExt\u001b[39m\n",
      "   1421.3 ms\u001b[32m  ✓ \u001b[39m\u001b[90mConstructionBase → ConstructionBaseStaticArraysExt\u001b[39m\n",
      "   1297.4 ms\u001b[32m  ✓ \u001b[39m\u001b[90mAdapt → AdaptStaticArraysExt\u001b[39m\n",
      "   1381.3 ms\u001b[32m  ✓ \u001b[39m\u001b[90mDistances\u001b[39m\n",
      "   1767.6 ms\u001b[32m  ✓ \u001b[39m\u001b[90mHostCPUFeatures\u001b[39m\n",
      "   4501.4 ms\u001b[32m  ✓ \u001b[39m\u001b[90mFixedPointNumbers\u001b[39m\n",
      "   1858.6 ms\u001b[32m  ✓ \u001b[39m\u001b[90mPolyesterWeave\u001b[39m\n",
      "  11488.2 ms\u001b[32m  ✓ \u001b[39m\u001b[90mLLVM\u001b[39m\n",
      "   1325.2 ms\u001b[32m  ✓ \u001b[39m\u001b[90mFilePathsBase → FilePathsBaseMmapExt\u001b[39m\n",
      "   1150.8 ms\u001b[32m  ✓ \u001b[39m\u001b[90mSortingAlgorithms\u001b[39m\n",
      "   1580.9 ms\u001b[32m  ✓ \u001b[39m\u001b[90mUnitful → ConstructionBaseUnitfulExt\u001b[39m\n",
      "   2269.2 ms\u001b[32m  ✓ \u001b[39m\u001b[90mFilePathsBase → FilePathsBaseTestExt\u001b[39m\n",
      "   1308.4 ms\u001b[32m  ✓ \u001b[39m\u001b[90mDiffRules\u001b[39m\n",
      "   2323.8 ms\u001b[32m  ✓ \u001b[39m\u001b[90mSetfield\u001b[39m\n",
      "   1644.6 ms\u001b[32m  ✓ \u001b[39m\u001b[90mStructArrays\u001b[39m\n",
      "   1558.8 ms\u001b[32m  ✓ \u001b[39m\u001b[90mArrayInterface\u001b[39m\n",
      "   1582.5 ms\u001b[32m  ✓ \u001b[39m\u001b[90mDistances → DistancesSparseArraysExt\u001b[39m\n",
      "   4680.4 ms\u001b[32m  ✓ \u001b[39m\u001b[90mDataDeps\u001b[39m\n",
      "   3907.3 ms\u001b[32m  ✓ \u001b[39m\u001b[90mColorTypes\u001b[39m\n",
      "   3725.4 ms\u001b[32m  ✓ \u001b[39m\u001b[90mStatsBase\u001b[39m\n",
      "   7125.2 ms\u001b[32m  ✓ \u001b[39m\u001b[90mForwardDiff\u001b[39m\n",
      "   1468.3 ms\u001b[32m  ✓ \u001b[39m\u001b[90mStructArrays → StructArraysAdaptExt\u001b[39m\n",
      "   1523.8 ms\u001b[32m  ✓ \u001b[39m\u001b[90mStructArrays → StructArraysSparseArraysExt\u001b[39m\n",
      "   1631.8 ms\u001b[32m  ✓ \u001b[39m\u001b[90mStructArrays → StructArraysStaticArraysExt\u001b[39m\n",
      "   1475.9 ms\u001b[32m  ✓ \u001b[39m\u001b[90mArrayInterface → ArrayInterfaceSparseArraysExt\u001b[39m\n",
      "   1035.2 ms\u001b[32m  ✓ \u001b[39m\u001b[90mArrayInterface → ArrayInterfaceStaticArraysCoreExt\u001b[39m\n",
      "  37108.9 ms\u001b[32m  ✓ \u001b[39m\u001b[90mPrettyTables\u001b[39m\n",
      "   2020.2 ms\u001b[32m  ✓ \u001b[39m\u001b[90mForwardDiff → ForwardDiffStaticArraysExt\u001b[39m\n",
      "   4712.2 ms\u001b[32m  ✓ \u001b[39m\u001b[90mNearestNeighbors\u001b[39m\n",
      "   4678.4 ms\u001b[32m  ✓ \u001b[39m\u001b[90mStaticArrayInterface\u001b[39m\n",
      "   1822.6 ms\u001b[32m  ✓ \u001b[39m\u001b[90mFiniteDiff\u001b[39m\n",
      "  14656.9 ms\u001b[32m  ✓ \u001b[39m\u001b[90mGeometryBasics\u001b[39m\n",
      "  35635.7 ms\u001b[32m  ✓ \u001b[39m\u001b[90mCSV\u001b[39m\n",
      "   1988.2 ms\u001b[32m  ✓ \u001b[39m\u001b[90mStaticArrayInterface → StaticArrayInterfaceStaticArraysExt\u001b[39m\n",
      "   1715.7 ms\u001b[32m  ✓ \u001b[39m\u001b[90mStaticArrayInterface → StaticArrayInterfaceOffsetArraysExt\u001b[39m\n",
      "   6480.7 ms\u001b[32m  ✓ \u001b[39m\u001b[90mMeshArrays\u001b[39m\n",
      "   1643.8 ms\u001b[32m  ✓ \u001b[39m\u001b[90mFiniteDiff → FiniteDiffSparseArraysExt\u001b[39m\n",
      "   2109.6 ms\u001b[32m  ✓ \u001b[39m\u001b[90mFiniteDiff → FiniteDiffStaticArraysExt\u001b[39m\n",
      "   1767.9 ms\u001b[32m  ✓ \u001b[39m\u001b[90mCloseOpenIntervals\u001b[39m\n",
      "   1719.4 ms\u001b[32m  ✓ \u001b[39m\u001b[90mLayoutPointers\u001b[39m\n",
      "  71397.1 ms\u001b[32m  ✓ \u001b[39m\u001b[90mJLD2\u001b[39m\n",
      "   2235.8 ms\u001b[32m  ✓ \u001b[39m\u001b[90mNLSolversBase\u001b[39m\n",
      "   4553.3 ms\u001b[32m  ✓ \u001b[39m\u001b[90mMeshArrays → MeshArraysDataDepsExt\u001b[39m\n",
      "  10049.7 ms\u001b[32m  ✓ \u001b[39m\u001b[90mMakieCore\u001b[39m\n",
      "   2616.0 ms\u001b[32m  ✓ \u001b[39m\u001b[90mStrideArraysCore\u001b[39m\n",
      "  58114.5 ms\u001b[32m  ✓ \u001b[39m\u001b[90mGPUCompiler\u001b[39m\n",
      "   4181.8 ms\u001b[32m  ✓ \u001b[39m\u001b[90mMeshArrays → MeshArraysJLD2Ext\u001b[39m\n",
      "   3278.3 ms\u001b[32m  ✓ \u001b[39m\u001b[90mLineSearches\u001b[39m\n",
      "   1696.3 ms\u001b[32m  ✓ \u001b[39m\u001b[90mPolyester\u001b[39m\n",
      "   2433.6 ms\u001b[32m  ✓ \u001b[39m\u001b[90mGeoInterfaceMakie\u001b[39m\n",
      "   1352.0 ms\u001b[32m  ✓ \u001b[39m\u001b[90mFastBroadcast\u001b[39m\n",
      "  14759.1 ms\u001b[32m  ✓ \u001b[39m\u001b[90mVectorizationBase\u001b[39m\n",
      "   5464.0 ms\u001b[32m  ✓ \u001b[39mOptim\n",
      "   1619.6 ms\u001b[32m  ✓ \u001b[39m\u001b[90mAccurateArithmetic\u001b[39m\n",
      "   2160.9 ms\u001b[32m  ✓ \u001b[39m\u001b[90mSLEEFPirates\u001b[39m\n",
      "  52279.9 ms\u001b[32m  ✓ \u001b[39m\u001b[90mLoopVectorization\u001b[39m\n",
      "  91098.8 ms\u001b[32m  ✓ \u001b[39m\u001b[90mDataFrames\u001b[39m\n",
      "   1913.1 ms\u001b[32m  ✓ \u001b[39m\u001b[90mLoopVectorization → SpecialFunctionsExt\u001b[39m\n",
      "   2666.4 ms\u001b[32m  ✓ \u001b[39m\u001b[90mDataverse\u001b[39m\n",
      "   3458.2 ms\u001b[32m  ✓ \u001b[39m\u001b[90mRollingFunctions\u001b[39m\n",
      "   2637.2 ms\u001b[32m  ✓ \u001b[39m\u001b[90mDataverse → DataverseCondaExt\u001b[39m\n",
      "  69203.8 ms\u001b[32m  ✓ \u001b[39m\u001b[90mGeoJSON\u001b[39m\n",
      "   5193.4 ms\u001b[32m  ✓ \u001b[39m\u001b[90mClimateModels\u001b[39m\n",
      "   1973.5 ms\u001b[32m  ✓ \u001b[39m\u001b[90mSTAC\u001b[39m\n",
      "   2702.1 ms\u001b[32m  ✓ \u001b[39m\u001b[90mMeshArrays → MeshArraysGeoJSONExt\u001b[39m\n",
      "   3941.0 ms\u001b[32m  ✓ \u001b[39m\u001b[90mClimateModels → ClimateModelsCondaExt\u001b[39m\n",
      "   5877.2 ms\u001b[32m  ✓ \u001b[39m\u001b[90mClimatology\u001b[39m\n",
      "   6047.3 ms\u001b[32m  ✓ \u001b[39m\u001b[90mMITgcm\u001b[39m\n",
      "   4332.8 ms\u001b[32m  ✓ \u001b[39m\u001b[90mClimatology → ClimatologyMITgcmExt\u001b[39m\n",
      " 181713.8 ms\u001b[32m  ✓ \u001b[39mEnzyme\n",
      "   2209.0 ms\u001b[32m  ✓ \u001b[39mEnzyme → EnzymeLogExpFunctionsExt\n",
      "   2249.8 ms\u001b[32m  ✓ \u001b[39mEnzyme → EnzymeStaticArraysExt\n",
      "   2094.5 ms\u001b[32m  ✓ \u001b[39mEnzyme → EnzymeSpecialFunctionsExt\n",
      "  15666.2 ms\u001b[32m  ✓ \u001b[39mECCO\n",
      "  194 dependencies successfully precompiled in 333 seconds. 43 already precompiled.\n"
     ]
    }
   ],
   "source": [
    "using Pkg; Pkg.add(url=\"https://github.com/eldavenport/ECCO.jl\")\n",
    "using ECCO"
   ]
  },
  {
   "cell_type": "code",
   "execution_count": 2,
   "metadata": {},
   "outputs": [
    {
     "data": {
      "text/plain": [
       "(fc = -3.0606099804357885, adx = [0.0, 917.7850566361462, -6.121219960871577, -0.44841281435892])"
      ]
     },
     "execution_count": 2,
     "metadata": {},
     "output_type": "execute_result"
    }
   ],
   "source": [
    "# toy problem to evaluate f() at (x,y) and the adjoint of f at (x,y)\n",
    "(f,f_ad,x,y)=ECCO.toy_problems.enzyme_ex4()\n",
    "\n",
    "fc=f(x,y)\n",
    "adx=f_ad(x,y)\n",
    "(fc=fc,adx=adx)"
   ]
  },
  {
   "cell_type": "code",
   "execution_count": 3,
   "metadata": {},
   "outputs": [
    {
     "data": {
      "text/plain": [
       "(fc = 5.191703158437428e-27, gradient_check = true)"
      ]
     },
     "execution_count": 3,
     "metadata": {},
     "output_type": "execute_result"
    }
   ],
   "source": [
    "# toy problem that uses optim with the analytical gradient (g!)\n",
    "(f,g!,x0,x1,result)=ECCO.toy_problems.optim_ex2()\n",
    "dx=1e-4*(x0-x1)\n",
    "(fc=f(x1),gradient_check=f(x1)<f(x1+dx))"
   ]
  },
  {
   "cell_type": "code",
   "execution_count": 4,
   "metadata": {},
   "outputs": [
    {
     "data": {
      "text/plain": [
       "(x0 = [0.0, 0.0], x1 = [0.999999999999928, 0.9999999999998559])"
      ]
     },
     "execution_count": 4,
     "metadata": {},
     "output_type": "execute_result"
    }
   ],
   "source": [
    "# toy problem that uses optim with enzyme gradient (h!)\n",
    "(h,h!,x0,x1,result) = ECCO.toy_problems.optim_ex3()\n",
    "(x0=x0,x1=x1)"
   ]
  },
  {
   "cell_type": "markdown",
   "metadata": {},
   "source": [
    "# Optim with Enzyme and AirSeaFlux"
   ]
  },
  {
   "cell_type": "code",
   "execution_count": 2,
   "metadata": {},
   "outputs": [
    {
     "name": "stderr",
     "output_type": "stream",
     "text": [
      "\u001b[32m\u001b[1m   Resolving\u001b[22m\u001b[39m package versions...\n",
      "\u001b[32m\u001b[1m  No Changes\u001b[22m\u001b[39m to `~/.julia/environments/v1.11/Project.toml`\n",
      "\u001b[32m\u001b[1m  No Changes\u001b[22m\u001b[39m to `~/.julia/environments/v1.11/Manifest.toml`\n",
      "\u001b[32m\u001b[1m   Resolving\u001b[22m\u001b[39m package versions...\n",
      "\u001b[32m\u001b[1m  No Changes\u001b[22m\u001b[39m to `~/.julia/environments/v1.11/Project.toml`\n",
      "\u001b[32m\u001b[1m  No Changes\u001b[22m\u001b[39m to `~/.julia/environments/v1.11/Manifest.toml`\n"
     ]
    }
   ],
   "source": [
    "Pkg.add(\"AirSeaFluxes\")\n",
    "Pkg.add(\"UnPack\")\n",
    "import AirSeaFluxes: bulkformulae\n",
    "using Enzyme, Optim"
   ]
  },
  {
   "cell_type": "code",
   "execution_count": 6,
   "metadata": {},
   "outputs": [
    {
     "data": {
      "text/plain": [
       "4-element Vector{Float64}:\n",
       " 300.0\n",
       "   0.001\n",
       "  -0.14443527308573367\n",
       "  10.0"
      ]
     },
     "execution_count": 6,
     "metadata": {},
     "output_type": "execute_result"
    }
   ],
   "source": [
    "#= Documentation from AirSeaFluxes.jl \n",
    "bulkformulae(atemp,aqh,speed,sst,hu=10,ht=2,hq=2,zref=10,atmrho=1.2)\n",
    "\n",
    "Units:\n",
    "atemp  - mean air temperature (K)  at height ht (m)\n",
    "aqh    - mean air humidity (kg/kg) at height hq (m)\n",
    "speed  - mean wind speed (m/s)     at height hu (m)\n",
    "sst    - sea surface temperature (K)\n",
    "\n",
    "Bulk formulae formulation:\n",
    "```\n",
    "wind stress = (ust,vst) = rhoA * Cd * Ws * (del.u,del.v)\n",
    "Sensib Heat flux = fsha = rhoA * Ch * Ws * del.T * CpAir\n",
    "Latent Heat flux = flha = rhoA * Ce * Ws * del.Q * Lvap\n",
    "                 = -Evap * Lvap\n",
    "```\n",
    "\n",
    "with Cd,Ch,Ce = drag coefficient, Stanton number and\n",
    "Dalton number respectively [no-units], function of\n",
    "height & stability; and\n",
    "\n",
    "```\n",
    "Ws = wind speed = sqrt(del.u^2 +del.v^2)\n",
    "del.T = Tair - Tsurf ; del.Q = Qair - Qsurf\n",
    "```\n",
    "=#\n",
    "\n",
    "function f_tau(x::Array{Float64})\n",
    "    y = bulkformulae(x[1],x[2],x[3],x[4]).tau\n",
    "end\n",
    "function f_tau_ad!(bx2, x) \n",
    "    bx = zeros(size(x))\n",
    "    Enzyme.autodiff(Reverse, f_tau, Duplicated(x, bx))\n",
    "    bx2 .= bx\n",
    "end\n",
    "x0 = [300.,0.001,1.,10.]\n",
    "bx2 = zeros(size(x0))\n",
    "f_tau_ad!(bx2,x0)\n",
    "\n",
    "result=Optim.optimize(f_tau,f_tau_ad!,x0)\n",
    "x1=Optim.minimizer(result)"
   ]
  },
  {
   "cell_type": "code",
   "execution_count": 10,
   "metadata": {},
   "outputs": [
    {
     "name": "stdout",
     "output_type": "stream",
     "text": [
      "Iter     Function value   Gradient norm \n",
      "     0     8.252726e-03     1.663451e-03\n",
      " * time: 4.887580871582031e-5\n",
      "     1     5.474962e-03     1.195887e-03\n",
      " * time: 0.0002779960632324219\n",
      "     2     1.856151e-06     2.010559e-05\n",
      " * time: 0.0003829002380371094\n",
      "     3     2.534444e-12     2.346009e-08\n",
      " * time: 0.00048804283142089844\n",
      "     4     8.324333e-28     4.251711e-16\n",
      " * time: 0.0005888938903808594\n"
     ]
    },
    {
     "data": {
      "text/plain": [
       "0.09999999999997115"
      ]
     },
     "execution_count": 10,
     "metadata": {},
     "output_type": "execute_result"
    }
   ],
   "source": [
    "# Create a cost function that is the squared error between an observation and tau\n",
    "function J_tau(x::Vector{Float64})\n",
    "    # hard coded observation\n",
    "    y_obs = 0.1\n",
    "    y = bulkformulae(x[1],x[2],x[3],x[4]).tau\n",
    "    \n",
    "    # cost function\n",
    "    J = abs(y-y_obs)^2\n",
    "end\n",
    "\n",
    "# get the adjoint of the cost function\n",
    "function J_tau_ad!(bx2, x) \n",
    "    bx = zeros(size(x))\n",
    "    Enzyme.autodiff(Reverse, J_tau, Duplicated(x, bx))\n",
    "    bx2 .= bx\n",
    "end\n",
    "\n",
    "x0 = [300.,0.001,1.,10.]\n",
    "\n",
    "# evaluate the gradient at x0 (just for testing)\n",
    "bx2 = zeros(size(x0))\n",
    "J_tau_ad!(bx2,x0)\n",
    "\n",
    "# optimization with the cost function and the enzyme generated gradient \n",
    "result=Optim.optimize(J_tau, J_tau_ad!, x0, Optim.Options(show_trace=true))\n",
    "x1=Optim.minimizer(result)\n",
    "\n",
    "# check that tau at x1 is close to y_obs\n",
    "y1 = bulkformulae(x1[1],x1[2],x1[3],x1[4]).tau"
   ]
  },
  {
   "cell_type": "code",
   "execution_count": 15,
   "metadata": {},
   "outputs": [
    {
     "data": {
      "text/plain": [
       "0.09999999999997115"
      ]
     },
     "execution_count": 15,
     "metadata": {},
     "output_type": "execute_result"
    }
   ],
   "source": [
    "# cost function with the obs as an argument\n",
    "x0 = [300.,0.001,1.,10.]\n",
    "\n",
    "function J(x::Vector{Float64},y_obs)\n",
    "    y = bulkformulae(x[1],x[2],x[3],x[4]).tau\n",
    "    # cost function\n",
    "    J = (y-y_obs)^2\n",
    "    return J\n",
    "end\n",
    "\n",
    "# create a new \"closure\" that will keep y_obs constant\n",
    "y_obs = 0.1\n",
    "\n",
    "function my_closure(y_obs)\n",
    "    return x -> J(x,y_obs)\n",
    "end\n",
    "cost = my_closure(y_obs)\n",
    "\n",
    "# evaluate cost at x0 to see if this works\n",
    "# cost(x0) = 0.008252726417096927\n",
    "\n",
    "# get the adjoint of this new closure function that accounts for the constant obs\n",
    "function cost_ad!(bx2, x) \n",
    "    bx = zeros(size(x))\n",
    "    Enzyme.autodiff(Reverse, cost, Duplicated(x, bx))\n",
    "    bx2 .= bx\n",
    "end\n",
    "\n",
    "# for testing: evaluate the gradient at x0\n",
    "bx2 = zeros(size(x0))\n",
    "cost_ad!(bx2,x0)\n",
    "\n",
    "# optimization with the cost function and it's adjoint \n",
    "# observations are accounted for and constant\n",
    "result=Optim.optimize(cost, cost_ad!, x0)\n",
    "x1=Optim.minimizer(result)\n",
    "\n",
    "# check that tau at x1 is close to y_obs\n",
    "y1 = bulkformulae(x1[1],x1[2],x1[3],x1[4]).tau"
   ]
  },
  {
   "cell_type": "code",
   "execution_count": null,
   "metadata": {},
   "outputs": [],
   "source": []
  }
 ],
 "metadata": {
  "kernelspec": {
   "display_name": "Julia 1.11.0",
   "language": "julia",
   "name": "julia-1.11"
  },
  "language_info": {
   "file_extension": ".jl",
   "mimetype": "application/julia",
   "name": "julia",
   "version": "1.11.0"
  }
 },
 "nbformat": 4,
 "nbformat_minor": 4
}
