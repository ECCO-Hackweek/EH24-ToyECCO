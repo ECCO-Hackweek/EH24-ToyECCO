{
 "cells": [
  {
   "cell_type": "markdown",
   "id": "09720287-21c2-40f8-a01e-249c334e079b",
   "metadata": {},
   "source": [
    "# Automatic Differentiation Tools in Julia\n",
    "\n",
    "Three AD tools, via the [ECCO.jl](https://github.com/gaelforget/ECCO.jl#ecco) package (`v0.1.1`) are \n",
    "applied to air-sea flux paramaterization that controls sea surface temperature.\n",
    "\n",
    "- [Enzyme.jl](https://github.com/EnzymeAD/Enzyme.jl#readme)\n",
    "- [ForwardDiff.jl](https://github.com/JuliaDiff/ForwardDiff.jl?tab=readme-ov-file#readme)\n",
    "- [Zygote.jl](https://github.com/FluxML/Zygote.jl#readme)"
   ]
  },
  {
   "cell_type": "code",
   "execution_count": 1,
   "id": "677fb042-a5a8-4b5c-a4c0-57755ad7ab12",
   "metadata": {},
   "outputs": [
    {
     "data": {
      "text/plain": [
       "Zygote_ex1 (generic function with 1 method)"
      ]
     },
     "execution_count": 1,
     "metadata": {},
     "output_type": "execute_result"
    }
   ],
   "source": [
    "using ECCO\n",
    "Enzyme_ex1=ECCO.toy_problems.Enzyme_ex1\n",
    "ForwardDiff_ex1=ECCO.toy_problems.ForwardDiff_ex1\n",
    "Zygote_ex1=ECCO.Zygote_ex1"
   ]
  },
  {
   "cell_type": "code",
   "execution_count": 2,
   "id": "d64b7316-119d-4f64-af0e-be8c110b66ec",
   "metadata": {},
   "outputs": [
    {
     "name": "stdout",
     "output_type": "stream",
     "text": [
      "😸\n"
     ]
    }
   ],
   "source": [
    "## Enzyme\n",
    "(f,f_ad,x)=Enzyme_ex1()\n",
    "\n",
    "## ForwardDiff\n",
    "(x1,adx1)=ForwardDiff_ex1()\n",
    "\n",
    "## Zygote\n",
    "(x1,adx1)=Zygote_ex1()\n",
    "\n",
    "println(\"😸\")"
   ]
  }
 ],
 "metadata": {
  "kernelspec": {
   "display_name": "Julia 1.10.5",
   "language": "julia",
   "name": "julia-1.10"
  },
  "language_info": {
   "file_extension": ".jl",
   "mimetype": "application/julia",
   "name": "julia",
   "version": "1.10.5"
  }
 },
 "nbformat": 4,
 "nbformat_minor": 5
}
